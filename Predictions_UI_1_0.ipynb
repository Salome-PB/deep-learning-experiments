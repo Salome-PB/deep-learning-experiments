{
  "nbformat": 4,
  "nbformat_minor": 0,
  "metadata": {
    "colab": {
      "name": "Predictions_UI_1.0.ipynb",
      "provenance": [],
      "collapsed_sections": [],
      "authorship_tag": "ABX9TyN7mKwCNw5kJ7+9k+vpyGX0",
      "include_colab_link": true
    },
    "kernelspec": {
      "name": "python3",
      "display_name": "Python 3"
    },
    "language_info": {
      "name": "python"
    },
    "accelerator": "GPU"
  },
  "cells": [
    {
      "cell_type": "markdown",
      "metadata": {
        "id": "view-in-github",
        "colab_type": "text"
      },
      "source": [
        "<a href=\"https://colab.research.google.com/github/Salome-PB/deep-learning-experiments/blob/main/Predictions_UI_1_0.ipynb\" target=\"_parent\"><img src=\"https://colab.research.google.com/assets/colab-badge.svg\" alt=\"Open In Colab\"/></a>"
      ]
    },
    {
      "cell_type": "code",
      "source": [
        "from fastai.vision.all import *\n",
        "from fastai.vision.widgets import widgets"
      ],
      "metadata": {
        "id": "ZuNJE7OBUflo"
      },
      "execution_count": null,
      "outputs": []
    },
    {
      "cell_type": "code",
      "execution_count": null,
      "metadata": {
        "id": "JtyoaeB0M7s9"
      },
      "outputs": [],
      "source": [
        "path = Path()\n",
        "learn = load_learner(path/'NEU_multiclass_image_classification.pkl', cpu=True)\n",
        "upload = widgets.FileUpload()\n",
        "classify = widgets.Button(description='Classify',button_style='info')\n",
        "output = widgets.Output()\n",
        "preds_lbl = widgets.HTML()\n",
        "cr_prog = widgets.FloatProgress(min=0.0, max=1.0,description='Crazing')\n",
        "cr_prob = widgets.Label()\n",
        "in_prog = widgets.FloatProgress(min=0.0, max=1.0,description='Inclusion')\n",
        "in_prob = widgets.Label()\n",
        "pt_prog = widgets.FloatProgress(min=0.0, max=1.0,description='Patches')\n",
        "pt_prob = widgets.Label()\n",
        "ps_prog = widgets.FloatProgress(min=0.0, max=1.0,description='Pitted Surface')\n",
        "ps_prob = widgets.Label()\n",
        "ris_prog = widgets.FloatProgress(min=0.0, max=1.0,description='Rolled in Scale')\n",
        "ris_prob = widgets.Label()\n",
        "sc_prog = widgets.FloatProgress(min=0.0, max=1.0,description='Scratches')\n",
        "sc_prob = widgets.Label()"
      ]
    },
    {
      "cell_type": "code",
      "source": [
        "def on_click_classify(change):\n",
        "    img = PILImage.create(upload.data[0])\n",
        "    output.clear_output()\n",
        "    \n",
        "    with output: display(img.to_thumb(224,224))\n",
        "    pred,pred_idx,probs = learn.predict(img)\n",
        "    preds_lbl.value = f'<h3><center><b>Prediction: {str(pred).capitalize()} </br> Probability:{(probs[pred_idx]):.04f}</b></center></h3>'\n",
        "    cr_prog.value = probs[0]\n",
        "    cr_prob.value = f'{(probs[0]):.04f}'\n",
        "    in_prog.value = probs[1]\n",
        "    in_prob.value = f'{(probs[1]):.04f}'\n",
        "    pt_prog.value = probs[2]\n",
        "    pt_prob.value = f'{(probs[2]):.04f}'\n",
        "    ps_prog.value = probs[3]\n",
        "    ps_prob.value = f'{(probs[3]):.04f}'\n",
        "    ris_prog.value = probs[4]\n",
        "    ris_prob.value = f'{(probs[4]):.04f}'\n",
        "    sc_prog.value = probs[5]\n",
        "    sc_prob.value = f'{(probs[5]):.04f}'\n",
        "    \n",
        "classify.on_click(on_click_classify)"
      ],
      "metadata": {
        "id": "P1j3xdNnSGWU"
      },
      "execution_count": null,
      "outputs": []
    },
    {
      "cell_type": "code",
      "source": [
        "box_layout = widgets.Layout(align_items='center')\n",
        "display(widgets.VBox([widgets.HTML('Please upload the picture'),\n",
        "      upload, classify, output,  widgets.HBox([cr_prog, cr_prob]), widgets.HBox([in_prog, in_prob]), \n",
        "              widgets.HBox([pt_prog, pt_prob]), widgets.HBox([ps_prog, ps_prob]), widgets.HBox([ris_prog, ris_prob]), widgets.HBox([sc_prog, sc_prob]), preds_lbl], layout=box_layout))"
      ],
      "metadata": {
        "id": "t1fo9l_eS2Gi"
      },
      "execution_count": null,
      "outputs": []
    },
    {
      "cell_type": "code",
      "source": [
        ""
      ],
      "metadata": {
        "id": "pMshguSnW7Ik"
      },
      "execution_count": null,
      "outputs": []
    },
    {
      "cell_type": "code",
      "source": [
        ""
      ],
      "metadata": {
        "id": "_SCrbO2rW7KE"
      },
      "execution_count": null,
      "outputs": []
    }
  ]
}